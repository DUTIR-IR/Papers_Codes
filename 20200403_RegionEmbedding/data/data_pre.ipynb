{
 "cells": [
  {
   "cell_type": "code",
   "execution_count": 34,
   "metadata": {},
   "outputs": [],
   "source": [
    "import pandas as pd\n",
    "import numpy as np"
   ]
  },
  {
   "cell_type": "markdown",
   "metadata": {},
   "source": [
    "## 纠正标签"
   ]
  },
  {
   "cell_type": "code",
   "execution_count": 35,
   "metadata": {},
   "outputs": [],
   "source": [
    "#生成corrected_Combined_News_DJIA.csv\n",
    "data = pd.read_csv('Combined_News_DJIA.csv')\n",
    "data['Label'] = data['Label'].shift(-1).fillna(0).astype(int)\n",
    "data['Label'] = data['Label'].shift(-1).fillna(0).astype(int)\n",
    "data.to_csv('corrected_Combined_News_DJIA.csv',index=False)\n",
    "\n"
   ]
  },
  {
   "cell_type": "markdown",
   "metadata": {},
   "source": [
    "## 合并所有新闻"
   ]
  },
  {
   "cell_type": "code",
   "execution_count": 137,
   "metadata": {},
   "outputs": [],
   "source": [
    "corr_data = pd.read_csv('corrected_Combined_News_DJIA.csv')\n",
    "\n",
    "corr_data['all'] = corr_data[corr_data.columns[2:]].apply(lambda x: ','.join(x.dropna().astype(str)),axis=1)\n",
    "\n",
    "combin_data = pd.DataFrame()\n",
    "\n",
    "combin_data['1'] = corr_data['Label']\n",
    "combin_data['all'] = corr_data['all']\n",
    "\n",
    "combin_data.to_csv('combinedText_News_DJIA.csv',index=False)"
   ]
  },
  {
   "cell_type": "markdown",
   "metadata": {},
   "source": [
    "## 划分数据集"
   ]
  },
  {
   "cell_type": "code",
   "execution_count": 85,
   "metadata": {},
   "outputs": [
    {
     "data": {
      "text/html": [
       "<div>\n",
       "<style scoped>\n",
       "    .dataframe tbody tr th:only-of-type {\n",
       "        vertical-align: middle;\n",
       "    }\n",
       "\n",
       "    .dataframe tbody tr th {\n",
       "        vertical-align: top;\n",
       "    }\n",
       "\n",
       "    .dataframe thead th {\n",
       "        text-align: right;\n",
       "    }\n",
       "</style>\n",
       "<table border=\"1\" class=\"dataframe\">\n",
       "  <thead>\n",
       "    <tr style=\"text-align: right;\">\n",
       "      <th></th>\n",
       "      <th>Label</th>\n",
       "      <th>all</th>\n",
       "    </tr>\n",
       "  </thead>\n",
       "  <tbody>\n",
       "    <tr>\n",
       "      <th>0</th>\n",
       "      <td>1</td>\n",
       "      <td>b\"Georgia 'downs two Russian warplanes' as cou...</td>\n",
       "    </tr>\n",
       "    <tr>\n",
       "      <th>1</th>\n",
       "      <td>0</td>\n",
       "      <td>b'Why wont America and Nato help us? If they w...</td>\n",
       "    </tr>\n",
       "    <tr>\n",
       "      <th>2</th>\n",
       "      <td>0</td>\n",
       "      <td>b'Remember that adorable 9-year-old who sang a...</td>\n",
       "    </tr>\n",
       "    <tr>\n",
       "      <th>3</th>\n",
       "      <td>1</td>\n",
       "      <td>b' U.S. refuses Israel weapons to attack Iran:...</td>\n",
       "    </tr>\n",
       "    <tr>\n",
       "      <th>4</th>\n",
       "      <td>1</td>\n",
       "      <td>b'All the experts admit that we should legalis...</td>\n",
       "    </tr>\n",
       "  </tbody>\n",
       "</table>\n",
       "</div>"
      ],
      "text/plain": [
       "   Label                                                all\n",
       "0      1  b\"Georgia 'downs two Russian warplanes' as cou...\n",
       "1      0  b'Why wont America and Nato help us? If they w...\n",
       "2      0  b'Remember that adorable 9-year-old who sang a...\n",
       "3      1  b' U.S. refuses Israel weapons to attack Iran:...\n",
       "4      1  b'All the experts admit that we should legalis..."
      ]
     },
     "execution_count": 85,
     "metadata": {},
     "output_type": "execute_result"
    }
   ],
   "source": [
    "combin_data.head()"
   ]
  },
  {
   "cell_type": "code",
   "execution_count": 86,
   "metadata": {},
   "outputs": [
    {
     "data": {
      "text/plain": [
       "1790"
      ]
     },
     "execution_count": 86,
     "metadata": {},
     "output_type": "execute_result"
    }
   ],
   "source": [
    "round(len(combin_data['Label'])*0.9)"
   ]
  },
  {
   "cell_type": "code",
   "execution_count": 87,
   "metadata": {},
   "outputs": [],
   "source": [
    "#  随机打乱\n",
    "# combin_data=combin_data.sample(frac=1.0)\n"
   ]
  },
  {
   "cell_type": "code",
   "execution_count": 139,
   "metadata": {},
   "outputs": [],
   "source": [
    "Train = combin_data[:round(len(combin_data['1'])*0.9)]\n",
    "Test = combin_data[round(len(combin_data['1'])*0.9):]"
   ]
  },
  {
   "cell_type": "code",
   "execution_count": 111,
   "metadata": {},
   "outputs": [
    {
     "data": {
      "text/html": [
       "<div>\n",
       "<style scoped>\n",
       "    .dataframe tbody tr th:only-of-type {\n",
       "        vertical-align: middle;\n",
       "    }\n",
       "\n",
       "    .dataframe tbody tr th {\n",
       "        vertical-align: top;\n",
       "    }\n",
       "\n",
       "    .dataframe thead th {\n",
       "        text-align: right;\n",
       "    }\n",
       "</style>\n",
       "<table border=\"1\" class=\"dataframe\">\n",
       "  <thead>\n",
       "    <tr style=\"text-align: right;\">\n",
       "      <th></th>\n",
       "      <th>Label</th>\n",
       "      <th>all</th>\n",
       "    </tr>\n",
       "  </thead>\n",
       "  <tbody>\n",
       "    <tr>\n",
       "      <th>1785</th>\n",
       "      <td>0</td>\n",
       "      <td>Child poverty in Scotland is now so severe tha...</td>\n",
       "    </tr>\n",
       "    <tr>\n",
       "      <th>1786</th>\n",
       "      <td>1</td>\n",
       "      <td>Malcom Turnbull becomes Prime Minister of Aust...</td>\n",
       "    </tr>\n",
       "    <tr>\n",
       "      <th>1787</th>\n",
       "      <td>1</td>\n",
       "      <td>Egyptian Billionaire who wants to purchase pri...</td>\n",
       "    </tr>\n",
       "    <tr>\n",
       "      <th>1788</th>\n",
       "      <td>0</td>\n",
       "      <td>Tuna and mackerel populations suffer catastrop...</td>\n",
       "    </tr>\n",
       "    <tr>\n",
       "      <th>1789</th>\n",
       "      <td>0</td>\n",
       "      <td>Efficiency up, turnover down: Sweden experimen...</td>\n",
       "    </tr>\n",
       "  </tbody>\n",
       "</table>\n",
       "</div>"
      ],
      "text/plain": [
       "      Label                                                all\n",
       "1785      0  Child poverty in Scotland is now so severe tha...\n",
       "1786      1  Malcom Turnbull becomes Prime Minister of Aust...\n",
       "1787      1  Egyptian Billionaire who wants to purchase pri...\n",
       "1788      0  Tuna and mackerel populations suffer catastrop...\n",
       "1789      0  Efficiency up, turnover down: Sweden experimen..."
      ]
     },
     "execution_count": 111,
     "metadata": {},
     "output_type": "execute_result"
    }
   ],
   "source": [
    "Train.tail()"
   ]
  },
  {
   "cell_type": "code",
   "execution_count": 140,
   "metadata": {},
   "outputs": [],
   "source": [
    "Train.to_csv('train.csv',index=False)\n",
    "Test.to_csv('test.csv',index=False)"
   ]
  },
  {
   "cell_type": "code",
   "execution_count": 90,
   "metadata": {},
   "outputs": [
    {
     "name": "stdout",
     "output_type": "stream",
     "text": [
      "4424\n",
      "1473\n"
     ]
    }
   ],
   "source": [
    "#最大长度\n",
    "print(combin_data['all'].map(lambda x: len(x)).max())\n",
    "#最小长度\n",
    "print(combin_data['all'].map(lambda x: len(x)).min())"
   ]
  },
  {
   "cell_type": "markdown",
   "metadata": {},
   "source": [
    "## 去除特殊符号，停用词"
   ]
  },
  {
   "cell_type": "code",
   "execution_count": 92,
   "metadata": {},
   "outputs": [],
   "source": [
    "# 停止词\n",
    "from nltk.corpus import stopwords\n",
    "stop = stopwords.words('english')\n",
    "\n",
    "# 数字\n",
    "import re\n",
    "def hasNumbers(inputString):\n",
    "    return bool(re.search(r'\\d', inputString))\n",
    "\n",
    "# 特殊符号\n",
    "def isSymbol(inputString):\n",
    "    return bool(re.match(r'[^\\w]', inputString))\n",
    "\n",
    "# lemma\n",
    "from nltk.stem import WordNetLemmatizer\n",
    "wordnet_lemmatizer = WordNetLemmatizer()\n",
    "\n",
    "def check(word):\n",
    "    \"\"\"\n",
    "    如果需要这个单词，则True\n",
    "    如果应该去除，则False\n",
    "    \"\"\"\n",
    "#     word= word.lower()\n",
    "#     if word in stop:\n",
    "#         return False\n",
    "#     elif hasNumbers(word) or isSymbol(word):\n",
    "#         return False\n",
    "#     else:\n",
    "#         return True\n",
    "    if hasNumbers(word) or isSymbol(word):\n",
    "        return False\n",
    "    else:\n",
    "        return True\n",
    "\n",
    "# 把上面的方法综合起来\n",
    "def preprocessing(sen):\n",
    "    res = []\n",
    "    for word in sen:\n",
    "        if check(word):\n",
    "            # 这一段的用处仅仅是去除python里面byte存str时候留下的标识。。之前数据没处理好，其他case里不会有这个情况\n",
    "            word = word.lower().replace(\"b'\", '').replace('b\"', '').replace('\"', '').replace(\"'\", '')\n",
    "            res.append(wordnet_lemmatizer.lemmatize(word))\n",
    "    return res"
   ]
  },
  {
   "cell_type": "code",
   "execution_count": 93,
   "metadata": {},
   "outputs": [],
   "source": [
    "from nltk.tokenize import word_tokenize\n",
    "from gensim.models.word2vec import Word2Vec"
   ]
  },
  {
   "cell_type": "code",
   "execution_count": 97,
   "metadata": {},
   "outputs": [],
   "source": [
    "corpus = combin_data['all'].values.flatten().astype(str)\n",
    "corpus = [word_tokenize(x) for x in corpus]\n",
    "corpus = [preprocessing(x) for x in corpus]"
   ]
  },
  {
   "cell_type": "code",
   "execution_count": 99,
   "metadata": {},
   "outputs": [],
   "source": [
    "model = Word2Vec(corpus, size=128, window=5, min_count=5, workers=4)\n",
    "vocab = model.wv.vocab"
   ]
  },
  {
   "cell_type": "code",
   "execution_count": 100,
   "metadata": {},
   "outputs": [
    {
     "data": {
      "text/plain": [
       "10330"
      ]
     },
     "execution_count": 100,
     "metadata": {},
     "output_type": "execute_result"
    }
   ],
   "source": [
    "# 词表长度\n",
    "len(vocab)"
   ]
  },
  {
   "cell_type": "code",
   "execution_count": 101,
   "metadata": {},
   "outputs": [
    {
     "name": "stdout",
     "output_type": "stream",
     "text": [
      "语料数： 1989\n"
     ]
    }
   ],
   "source": [
    "print('语料数：', model.corpus_count)\n",
    "# print('词表长度：', len(model.wv.vocab))"
   ]
  },
  {
   "cell_type": "markdown",
   "metadata": {},
   "source": [
    "## 生成ID文件"
   ]
  },
  {
   "cell_type": "markdown",
   "metadata": {},
   "source": [
    "## 处理成表格式"
   ]
  },
  {
   "cell_type": "code",
   "execution_count": 75,
   "metadata": {},
   "outputs": [],
   "source": [
    "\"\"\"\n",
    "description:\n",
    "author: \n",
    "\"\"\"\n",
    "\n",
    "import random\n",
    "import sys\n",
    "import getopt\n",
    "import os\n",
    "import re\n",
    "import csv\n",
    "from nltk.corpus import stopwords\n",
    "stop = stopwords.words('english')\n",
    "\n",
    "csv.field_size_limit(sys.maxsize)\n",
    "\n",
    "def clean_str(string):\n",
    "    \"\"\"\n",
    "    Tokenization/string cleaning for all datasets except for SST.\n",
    "    Original taken from https://github.com/yoonkim/CNN_sentence/blob/master/process_data.py\n",
    "    \"\"\"\n",
    "    for stops in stop:\n",
    "        string = string.strip().strip('\"').replace(stops,'')\n",
    "\n",
    "\n",
    "    \n",
    "    string = re.sub(r\"[^A-Za-z0-9(),!?\\.\\'\\`]\", \" \", string)\n",
    "    string = re.sub(r\"\\'s\", \" \\'s\", string)\n",
    "    string = re.sub(r\"\\'ve\", \" \\'ve\", string)\n",
    "    string = re.sub(r\"n\\'t\", \" n\\'t\", string)\n",
    "    string = re.sub(r\"\\'re\", \" \\'re\", string)\n",
    "    string = re.sub(r\"\\'d\", \" \\'d\", string)\n",
    "    string = re.sub(r\"\\'ll\", \" \\'ll\", string)\n",
    "    string = re.sub(r\",\", \" , \", string)\n",
    "    string = re.sub(r\"\\.\", \" \\. \", string)\n",
    "    string = re.sub(r\"\\\"\", \" , \", string)\n",
    "    string = re.sub(r\"!\", \" ! \", string)\n",
    "    string = re.sub(r\"\\(\", \" \\( \", string)\n",
    "    string = re.sub(r\"\\)\", \" \\) \", string)\n",
    "    string = re.sub(r\"\\?\", \" \\? \", string)\n",
    "    string = re.sub(r\"\\s{2,}\", \" \", string)\n",
    "    return string.strip().lower()\n",
    "\n",
    "def convert_multi_slots_to_single_slots(slots):\n",
    "    \"\"\"\n",
    "    covert the data which text_data are saved as multi-slots, e.g()\n",
    "    \"\"\"\n",
    "    if len(slots) == 1:\n",
    "        return slots[0]\n",
    "    else:\n",
    "        return ' '.join(slots)\n",
    "\n",
    "\n",
    "def build_vocab(save_dir, data, min_frq=2):\n",
    "    \"\"\"\n",
    "    build vocab from data, which slot 1 is text data, slot 0 is label\n",
    "    param:\n",
    "        1: save_dir: the data dir where the vocabulary dict file saved\n",
    "        2: data: input train data\n",
    "        3: min_req : words that appare less than {min_req} times will be replaced as <unk>\n",
    "    output:\n",
    "        1: vocabulary_dict(key: word, value: idx)  \n",
    "    \"\"\"\n",
    "    word_count = {}\n",
    "    with open(data, 'r') as csvfile:\n",
    "        lines = csv.reader(csvfile)\n",
    "        for items in lines:\n",
    "            text_data = convert_multi_slots_to_single_slots(items[1:])\n",
    "            text_data = clean_str(text_data)\n",
    "            words = set(text_data.split(' '))# word only counts once in a doucment\n",
    "            for word in words:\n",
    "                if word: #remove ' '\n",
    "                    word_count[word] = word_count.get(word, 0) + 1\n",
    "\n",
    "    # remove unfrequence words\n",
    "    word_count_filterd = {k:v for k,v in word_count.items() if v >= min_frq}\n",
    "\n",
    "    words_sorted_by_count = sorted(word_count_filterd.items(), key = lambda x:-x[1])\n",
    "\n",
    "    vocab_dict = {\"<pad>\": \"0\", \"<unk>\" : '1'}\n",
    "    with open(save_dir + '/unigram.id', 'w') as vocab_file:\n",
    "        print(\"<pad>\\t0\",file=vocab_file)\n",
    "        print(\"<unk>\\t1\",file=vocab_file)\n",
    "        idx = 2\n",
    "        for k, v in words_sorted_by_count:\n",
    "            print(k + '\\t' + str(idx),file=vocab_file)\n",
    "            vocab_dict[k] = str(idx)\n",
    "            idx += 1\n",
    "    return vocab_dict\n",
    "\n",
    "\n",
    "def load_vocab(v):\n",
    "    \"\"\"\n",
    "    load vocabulary whcih is builded previously\n",
    "    \"\"\"\n",
    "    res = {}\n",
    "    for line in open(v):\n",
    "        items = line.strip().split('\\t')\n",
    "        res[items[0]] = items[1]\n",
    "    return res\n",
    "\n",
    "\n",
    "def token_lize(vocab, data):\n",
    "    \"\"\"\n",
    "    convert word to corresponding vocabulary id\n",
    "    \"\"\"\n",
    "    with open(data + '.id', \"w\") as out_f:\n",
    "        with open(data, 'r') as csvfile:\n",
    "            lines = csv.reader(csvfile)\n",
    "            for items in lines:\n",
    "                text_data = convert_multi_slots_to_single_slots(items[1:])\n",
    "                text_data = clean_str(text_data)\n",
    "                words = text_data.split(' ')\n",
    "                word_ids = []\n",
    "                for word in words:\n",
    "                    word_ids.append(vocab.get(word, '1')) #1 == <unk>\n",
    "                text_data_ids = ' '.join(word_ids)\n",
    "                lable = str(int(items[0])) # add -1 bias to ensure min label value is 0\n",
    "                print(';'.join([lable, text_data_ids]),file=out_f)\n",
    "\n",
    "\n",
    "def split_train_dev(data, dev_dir, rate):\n",
    "    \"\"\"\n",
    "    split train data to dev_train and dev sets\n",
    "    \"\"\"\n",
    "    with open(data, 'r') as f:\n",
    "        lines = f.readlines()\n",
    "        random.shuffle(lines)\n",
    "        dev_idx = int(len(lines) * rate)\n",
    "\n",
    "    train_file = dev_dir + '/dev_train.csv'\n",
    "    dev_file = dev_dir + '/dev.csv'\n",
    "\n",
    "    with open(dev_file, 'w') as f:\n",
    "        f.write(''.join(lines[0:dev_idx]))\n",
    "\n",
    "    with open(train_file, 'w') as f:\n",
    "        f.write(''.join(lines[dev_idx:]))\n",
    "\n",
    "    return train_file, dev_file\n",
    "\n",
    "def process(train_file, test_file, frequence_cut, save_dir, dev_file=''):\n",
    "\n",
    "    \"\"\"\n",
    "    build vocabulary dict from train_file\n",
    "    tokenlize all datas\n",
    "    \"\"\"\n",
    "    if not os.path.exists(v):\n",
    "        print('vocab not exist, build from data',file=sys.stderr)\n",
    "        vocab = build_vocab(save_dir, train_file, frequence_cut)\n",
    "    else:\n",
    "        vocab = load_vocab(v)\n",
    "    for _file in [train_file, test_file]:\n",
    "        token_lize(vocab, _file)\n",
    "    if dev_file:\n",
    "        token_lize(vocab, dev_file)\n",
    "\n",
    "\n"
   ]
  },
  {
   "cell_type": "code",
   "execution_count": 76,
   "metadata": {},
   "outputs": [
    {
     "name": "stderr",
     "output_type": "stream",
     "text": [
      "vocab not exist, build from data\n"
     ]
    }
   ],
   "source": [
    "v = ''\n",
    "#需要改写\n",
    "data_dir = 'DJIA'\n",
    "dev_rate = 0.1\n",
    "frequence_cut = 2 #remove words that only apear in one document\n",
    "\n",
    "dev_dir = data_dir.strip('/') + '_for_dev'\n",
    "os.system('mkdir -p %s' % dev_dir)\n",
    "os.system('cp %s/test.csv %s/dev_test.csv' % (data_dir, dev_dir))\n",
    "\n",
    "dev_train_file, dev_file = split_train_dev(data_dir + '/train.csv', dev_dir, dev_rate)\n",
    "dev_test_file = dev_dir + '/dev_test.csv'\n",
    "\n",
    "test_file = data_dir + '/test.csv'\n",
    "train_file = data_dir + '/train.csv'\n",
    "\n",
    "#generate data for parameter tuning, default using 10% training data for dev\n",
    "# process(dev_train_file, dev_test_file, frequence_cut, dev_dir, dev_file)\n",
    "\n",
    "#use the best parameter and 100% training data to get the model's performance\n",
    "process(train_file, test_file, frequence_cut, data_dir)\n",
    "\n",
    "\n"
   ]
  },
  {
   "cell_type": "code",
   "execution_count": 77,
   "metadata": {},
   "outputs": [
    {
     "data": {
      "text/plain": [
       "21785"
      ]
     },
     "execution_count": 77,
     "metadata": {},
     "output_type": "execute_result"
    }
   ],
   "source": [
    "len(vocab)"
   ]
  },
  {
   "cell_type": "code",
   "execution_count": 78,
   "metadata": {},
   "outputs": [],
   "source": [
    "import pandas as pd"
   ]
  },
  {
   "cell_type": "code",
   "execution_count": 80,
   "metadata": {},
   "outputs": [],
   "source": [
    "train_id=pd.read_csv('DJIA/train.csv.id')"
   ]
  },
  {
   "cell_type": "code",
   "execution_count": 81,
   "metadata": {},
   "outputs": [
    {
     "data": {
      "text/html": [
       "<div>\n",
       "<style scoped>\n",
       "    .dataframe tbody tr th:only-of-type {\n",
       "        vertical-align: middle;\n",
       "    }\n",
       "\n",
       "    .dataframe tbody tr th {\n",
       "        vertical-align: top;\n",
       "    }\n",
       "\n",
       "    .dataframe thead th {\n",
       "        text-align: right;\n",
       "    }\n",
       "</style>\n",
       "<table border=\"1\" class=\"dataframe\">\n",
       "  <thead>\n",
       "    <tr style=\"text-align: right;\">\n",
       "      <th></th>\n",
       "      <th>1;1</th>\n",
       "    </tr>\n",
       "  </thead>\n",
       "  <tbody>\n",
       "    <tr>\n",
       "      <th>0</th>\n",
       "      <td>1;15 1208 3059 10 53 1 87 1452 43 3 3622 4679 ...</td>\n",
       "    </tr>\n",
       "    <tr>\n",
       "      <th>1</th>\n",
       "      <td>0;962 10 388 2 2 216 21 73 347 10 216 21 10 3 ...</td>\n",
       "    </tr>\n",
       "    <tr>\n",
       "      <th>2</th>\n",
       "      <td>0;2644 2827 375 17 9 33 571 611 73 140 718 3 4...</td>\n",
       "    </tr>\n",
       "    <tr>\n",
       "      <th>3</th>\n",
       "      <td>1;224 21 4 31 4 349 32 8 72 103 565 3 15 23 40...</td>\n",
       "    </tr>\n",
       "    <tr>\n",
       "      <th>4</th>\n",
       "      <td>1;403 471 191 1770 151 38 3 3195 2 88 2156 306...</td>\n",
       "    </tr>\n",
       "  </tbody>\n",
       "</table>\n",
       "</div>"
      ],
      "text/plain": [
       "                                                 1;1\n",
       "0  1;15 1208 3059 10 53 1 87 1452 43 3 3622 4679 ...\n",
       "1  0;962 10 388 2 2 216 21 73 347 10 216 21 10 3 ...\n",
       "2  0;2644 2827 375 17 9 33 571 611 73 140 718 3 4...\n",
       "3  1;224 21 4 31 4 349 32 8 72 103 565 3 15 23 40...\n",
       "4  1;403 471 191 1770 151 38 3 3195 2 88 2156 306..."
      ]
     },
     "execution_count": 81,
     "metadata": {},
     "output_type": "execute_result"
    }
   ],
   "source": [
    "train_id.head()"
   ]
  },
  {
   "cell_type": "code",
   "execution_count": 82,
   "metadata": {},
   "outputs": [
    {
     "name": "stdout",
     "output_type": "stream",
     "text": [
      "2121\n",
      "806\n"
     ]
    }
   ],
   "source": [
    "\n",
    "print(train_id['1;1'].map(lambda x: len(x)).max())\n",
    "print(train_id['1;1'].map(lambda x: len(x)).min())"
   ]
  },
  {
   "cell_type": "code",
   "execution_count": 83,
   "metadata": {},
   "outputs": [
    {
     "name": "stdout",
     "output_type": "stream",
     "text": [
      "1783\n",
      "946\n"
     ]
    }
   ],
   "source": [
    "test_id=pd.read_csv('DJIA/test.csv.id')\n",
    "print(test_id['1;1'].map(lambda x: len(x)).max())\n",
    "print(test_id['1;1'].map(lambda x: len(x)).min())"
   ]
  },
  {
   "cell_type": "code",
   "execution_count": 52,
   "metadata": {},
   "outputs": [
    {
     "data": {
      "text/html": [
       "<div>\n",
       "<style scoped>\n",
       "    .dataframe tbody tr th:only-of-type {\n",
       "        vertical-align: middle;\n",
       "    }\n",
       "\n",
       "    .dataframe tbody tr th {\n",
       "        vertical-align: top;\n",
       "    }\n",
       "\n",
       "    .dataframe thead th {\n",
       "        text-align: right;\n",
       "    }\n",
       "</style>\n",
       "<table border=\"1\" class=\"dataframe\">\n",
       "  <thead>\n",
       "    <tr style=\"text-align: right;\">\n",
       "      <th></th>\n",
       "      <th>2;443 497 2 2051 13509 107 64 3 1009 12 32 13 32 719 8194 4 443 363 27 9441 3050 7 5582 24178 4 42 3733 890 306 2</th>\n",
       "    </tr>\n",
       "  </thead>\n",
       "  <tbody>\n",
       "    <tr>\n",
       "      <th>0</th>\n",
       "      <td>2;20278 1003 837 1225 4116 12 32 13 32 900 816...</td>\n",
       "    </tr>\n",
       "    <tr>\n",
       "      <th>1</th>\n",
       "      <td>2;99 9 390 4498 26159 808 12 32 13 32 2214 537...</td>\n",
       "    </tr>\n",
       "    <tr>\n",
       "      <th>2</th>\n",
       "      <td>2;100 6765 99 1991 28 820 532 3210 12 32 13 32...</td>\n",
       "    </tr>\n",
       "    <tr>\n",
       "      <th>3</th>\n",
       "      <td>2;99 116 4079 5 104 82 152 4 7047 24 11409 5 3...</td>\n",
       "    </tr>\n",
       "    <tr>\n",
       "      <th>4</th>\n",
       "      <td>2;132 138 39 4 43 335 44 2494 12 32 13 32 132 ...</td>\n",
       "    </tr>\n",
       "  </tbody>\n",
       "</table>\n",
       "</div>"
      ],
      "text/plain": [
       "  2;443 497 2 2051 13509 107 64 3 1009 12 32 13 32 719 8194 4 443 363 27 9441 3050 7 5582 24178 4 42 3733 890 306 2\n",
       "0  2;20278 1003 837 1225 4116 12 32 13 32 900 816...                                                               \n",
       "1  2;99 9 390 4498 26159 808 12 32 13 32 2214 537...                                                               \n",
       "2  2;100 6765 99 1991 28 820 532 3210 12 32 13 32...                                                               \n",
       "3  2;99 116 4079 5 104 82 152 4 7047 24 11409 5 3...                                                               \n",
       "4  2;132 138 39 4 43 335 44 2494 12 32 13 32 132 ...                                                               "
      ]
     },
     "execution_count": 52,
     "metadata": {},
     "output_type": "execute_result"
    }
   ],
   "source": [
    "ag_train_id=pd.read_csv('ag/train.csv.id')\n",
    "ag_train_id.head()"
   ]
  },
  {
   "cell_type": "code",
   "execution_count": 63,
   "metadata": {},
   "outputs": [
    {
     "name": "stdout",
     "output_type": "stream",
     "text": [
      "801\n",
      "52\n"
     ]
    }
   ],
   "source": [
    "print(ag_train_id['2;443 497 2 2051 13509 107 64 3 1009 12 32 13 32 719 8194 4 443 363 27 9441 3050 7 5582 24178 4 42 3733 890 306 2'].map(lambda x: len(x)).max())\n",
    "print(ag_train_id['2;443 497 2 2051 13509 107 64 3 1009 12 32 13 32 719 8194 4 443 363 27 9441 3050 7 5582 24178 4 42 3733 890 306 2'].map(lambda x: len(x)).min())\n"
   ]
  },
  {
   "cell_type": "code",
   "execution_count": null,
   "metadata": {},
   "outputs": [],
   "source": []
  }
 ],
 "metadata": {
  "kernelspec": {
   "display_name": "Python 3",
   "language": "python",
   "name": "python3"
  },
  "language_info": {
   "codemirror_mode": {
    "name": "ipython",
    "version": 3
   },
   "file_extension": ".py",
   "mimetype": "text/x-python",
   "name": "python",
   "nbconvert_exporter": "python",
   "pygments_lexer": "ipython3",
   "version": "3.7.4"
  }
 },
 "nbformat": 4,
 "nbformat_minor": 2
}
